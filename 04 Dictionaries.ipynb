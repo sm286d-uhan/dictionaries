{
 "cells": [
  {
   "cell_type": "markdown",
   "metadata": {
    "hide_cell": true
   },
   "source": [
    "<span class='note'><i>Make me look good.</i> Click on the cell below and press <kbd>Ctrl</kbd>+<kbd>Enter</kbd>.</span>"
   ]
  },
  {
   "cell_type": "code",
   "execution_count": null,
   "metadata": {
    "hide_cell": true
   },
   "outputs": [],
   "source": [
    "from IPython.core.display import HTML\n",
    "HTML(open('css/custom.css', 'r').read())"
   ]
  },
  {
   "cell_type": "markdown",
   "metadata": {
    "hide_cell": true
   },
   "source": [
    "<h5 class='prehead'>SM286D &middot; Introduction to Applied Mathematics with Python &middot; Spring 2020 &middot; Uhan</h5>\n",
    "\n",
    "<h5 class='lesson'>Lesson 4.</h5>\n",
    "\n",
    "<h1 class='lesson_title'>Dictionaries</h1>"
   ]
  },
  {
   "cell_type": "markdown",
   "metadata": {},
   "source": [
    "## This lesson..."
   ]
  },
  {
   "cell_type": "markdown",
   "metadata": {},
   "source": [
    "- Why do we need dictionaries?\n",
    "- Dictionary basics\n",
    "- Useful dictionary methods"
   ]
  },
  {
   "cell_type": "markdown",
   "metadata": {},
   "source": [
    "---"
   ]
  },
  {
   "cell_type": "markdown",
   "metadata": {},
   "source": [
    "## Why do we need dictionaries?"
   ]
  },
  {
   "cell_type": "markdown",
   "metadata": {},
   "source": [
    "- Suppose we have a collection of cities and their corresponding populations as shown in the table below.\n",
    "\n",
    "| City | Population |\n",
    "| ---- | -------------- |\n",
    "| Annapolis | 38,394 |\n",
    "| Baltimore | 620,961 |\n",
    "| Frederick | 65,239 |\n",
    "| Rockville | 61,209 |\n",
    "| College Park | 30,413 |\n",
    "\n",
    "- We would like to associate each city with its corresponding population.\n",
    "\n",
    "- One way to do this would be to use lists, like this:"
   ]
  },
  {
   "cell_type": "code",
   "execution_count": null,
   "metadata": {},
   "outputs": [],
   "source": [
    "# List of cities and corresponding populations\n",
    "cities = ['Annapolis', 'Baltimore', 'Frederick', 'Rockville', 'College Park']\n",
    "population = [38394, 620961, 65239, 61209, 30413]\n",
    "\n",
    "# Print the population of each city\n"
   ]
  },
  {
   "cell_type": "markdown",
   "metadata": {},
   "source": [
    "- Suppose now we decide to sort the cities in alphabetical order, like this:"
   ]
  },
  {
   "cell_type": "code",
   "execution_count": null,
   "metadata": {},
   "outputs": [],
   "source": [
    "# Sort list of cities in alphabetical order\n",
    "\n",
    "\n",
    "# Print to check our work\n",
    "print(cities)"
   ]
  },
  {
   "cell_type": "markdown",
   "metadata": {},
   "source": [
    "- What happens if we run the `for` loop we wrote above to print the population of each city?"
   ]
  },
  {
   "cell_type": "code",
   "execution_count": null,
   "metadata": {},
   "outputs": [],
   "source": [
    "# Print the population of each city\n"
   ]
  },
  {
   "cell_type": "markdown",
   "metadata": {},
   "source": [
    "- We see that the cities are no longer properly associated with their populations. 🤦  \n",
    "\n",
    "- One way to solve this kind of issue is to use a new data structure called a __dictionary__.  "
   ]
  },
  {
   "cell_type": "markdown",
   "metadata": {},
   "source": [
    "---"
   ]
  },
  {
   "cell_type": "markdown",
   "metadata": {},
   "source": [
    "## What is a dictionary?"
   ]
  },
  {
   "cell_type": "markdown",
   "metadata": {},
   "source": [
    "* A __dictionary__ is another way to organize a collection of items.\n",
    "\n",
    "* A dictionary maps __keys__ to __values__.\n",
    "    - Just like a real-world dictionary maps <span class=\"rred\">words</span> to <span class=\"rred\">definitions</span>.\n",
    "    \n",
    "* A dictionary is enclosed inside of `{ }` brackets.\n",
    "    - Inside the brackets, the key-value pairs are separated by a colon (`key: value`).\n",
    "    \n",
    "* For example, here's a dictionary containing the city populations from the table above:"
   ]
  },
  {
   "cell_type": "code",
   "execution_count": null,
   "metadata": {},
   "outputs": [],
   "source": [
    "# Create dictionary of populations by city\n",
    "population_by_city = {'Annapolis': 38394, 'Baltimore': 620961, 'Frederick': 65239, 'Rockville': 61209, 'College Park': 30413}"
   ]
  },
  {
   "cell_type": "markdown",
   "metadata": {},
   "source": [
    "- To access the value corresponding to a particular key, we can write\n",
    "\n",
    "    ```python\n",
    "    dictionary_name[key]\n",
    "    ```\n",
    "- So, to print the population of Annapolis, we can write:"
   ]
  },
  {
   "cell_type": "code",
   "execution_count": null,
   "metadata": {},
   "outputs": [],
   "source": [
    "# Print the population of Annapolis\n"
   ]
  },
  {
   "cell_type": "markdown",
   "metadata": {},
   "source": [
    "* We can also create a dictionary by starting with an empty dictionary and adding key-value pairs, like this:"
   ]
  },
  {
   "cell_type": "code",
   "execution_count": null,
   "metadata": {},
   "outputs": [],
   "source": [
    "# Create empty dictionary\n",
    "mid = {}\n",
    "\n",
    "# Add key-value pairs\n",
    "mid['First Name'] = 'Jane'\n",
    "mid['Last Name'] = 'Doe'\n",
    "mid['Company'] = 15\n",
    "mid['Alpha'] = 229999\n",
    "\n",
    "# Print the dictionary\n",
    "print(mid)"
   ]
  },
  {
   "cell_type": "markdown",
   "metadata": {},
   "source": [
    "- We can remove an existing key-value pair from a dictionary with the `del` keyword:"
   ]
  },
  {
   "cell_type": "code",
   "execution_count": null,
   "metadata": {},
   "outputs": [],
   "source": [
    "# Remove the midshipman's alpha from the dictionary\n",
    "\n",
    "\n",
    "# Print to check our work\n",
    "print(mid)"
   ]
  },
  {
   "cell_type": "markdown",
   "metadata": {},
   "source": [
    "- Some things to remember abourt dictionaries:\n",
    "    - Keys can be strings or numbers, but keys <span class=\"rred\">cannot</span> be lists.\n",
    "    - Duplicate keys are not allowed.\n",
    "    - Values in a Python dictionary can be any type of object (strings, numbers, lists, dictionaries, etc.)."
   ]
  },
  {
   "cell_type": "markdown",
   "metadata": {},
   "source": [
    "---"
   ]
  },
  {
   "cell_type": "markdown",
   "metadata": {},
   "source": [
    "## Useful dictionary methods"
   ]
  },
  {
   "cell_type": "markdown",
   "metadata": {},
   "source": [
    "- We can apply a number of methods to dictionaries.\n",
    "\n",
    "- __Pro tip.__ In Jupyter, one way to see the methods available is to type the name of the dictionary followed by a period, and then hit the <kbd>Tab</kbd> key.\n",
    "    - This actually works for any Python object, not just dictionaries.\n",
    "\n",
    "- For example, let's print the keys in the dictionary `population_by_city`:"
   ]
  },
  {
   "cell_type": "code",
   "execution_count": null,
   "metadata": {},
   "outputs": [],
   "source": [
    "# Print keys of dictionary of populations by city\n"
   ]
  },
  {
   "cell_type": "markdown",
   "metadata": {},
   "source": [
    "- It is possible to loop over the keys in a dictionary using the `.keys()` method:"
   ]
  },
  {
   "cell_type": "code",
   "execution_count": null,
   "metadata": {},
   "outputs": [],
   "source": [
    "# Iterate over the keys, print each of them\n"
   ]
  },
  {
   "cell_type": "markdown",
   "metadata": {},
   "source": [
    "- You can do something similar with the values of a dictionary with the `.values()` method:"
   ]
  },
  {
   "cell_type": "code",
   "execution_count": null,
   "metadata": {},
   "outputs": [],
   "source": [
    "# Iterate over the values, print each of them\n"
   ]
  },
  {
   "cell_type": "markdown",
   "metadata": {},
   "source": [
    "- What's really great is that you can loop over the keys and corresponding values of a dictionary <span class=\"rred\">simultaneously</span> with the `.items()` method:"
   ]
  },
  {
   "cell_type": "code",
   "execution_count": null,
   "metadata": {},
   "outputs": [],
   "source": [
    "# Print the population of each city\n"
   ]
  },
  {
   "cell_type": "markdown",
   "metadata": {},
   "source": [
    "---"
   ]
  },
  {
   "cell_type": "markdown",
   "metadata": {},
   "source": [
    "## Classwork &mdash; on your own!"
   ]
  },
  {
   "cell_type": "markdown",
   "metadata": {},
   "source": [
    "__Problem 1.__ (PCC 6-1: Person) Use a dictionary to store information about a person you know.  Store their first name, last name, age, and the city in which they live.  You should have keys such as `first_name`, `last_name`, `age`, and `city`.  Print each piece of information stored in your dictionary."
   ]
  },
  {
   "cell_type": "code",
   "execution_count": null,
   "metadata": {},
   "outputs": [],
   "source": [
    "# Write your code here\n"
   ]
  },
  {
   "cell_type": "markdown",
   "metadata": {},
   "source": [
    "__Problem 2__. (PCC 6-5: Rivers) Make a dictionary containing three major rivers and the country each river runs through.  One key-value pair might be `'nile' : 'egypt'`.\n",
    "\n",
    " - Use a loop to print a sentence about each river, such as `The Nile runs through Egypt`.\n",
    " - Use a loop to print the name of each river included in the dictionary.\n",
    " - Use a loop to print the name of each country included in the dictionary."
   ]
  },
  {
   "cell_type": "code",
   "execution_count": null,
   "metadata": {},
   "outputs": [],
   "source": [
    "# Write your code here\n"
   ]
  },
  {
   "cell_type": "markdown",
   "metadata": {},
   "source": [
    "__Problem 3.__ (PCC 6-7: People) Start with the code you wrote for PCC 6-1 (Problem 1) above.  Make two new dictionaries representing different people, and store all three dictionaries in a list called `people`.  Loop through your list of people.  As you loop through the list, print everything you know about each person."
   ]
  },
  {
   "cell_type": "code",
   "execution_count": null,
   "metadata": {},
   "outputs": [],
   "source": [
    "# Write your code here\n"
   ]
  },
  {
   "cell_type": "markdown",
   "metadata": {},
   "source": [
    "__Problem 4.__ (Rader 3.3, page 113) Three different products are made on three production lines each week.  If a production line is used in a given week there is an associated setup cost.  Each worker is designated to only one production line, and the pay and production of each worker depends on which line they are assigned to.  In addition, each worker is assigned to one product on their assigned line.  Relevant data are given below.\n",
    "\n",
    "\\begin{array}{l|c|c|c}\n",
    "& \\mbox{Line 1} & \\mbox{Line 2} & \\mbox{Line 3} \\\\\n",
    "\\hline\n",
    "\\mbox{Setup cost} & $2000 & $3000  & $4000 \\\\\n",
    "\\mbox{Product 1/worker} & 50 & 90 & 120 \\\\\n",
    "\\mbox{Product 2/worker} & 75 & 110 & 130 \\\\\n",
    "\\mbox{Product 3/worker} & 90 & 125 & 150\\\\\n",
    "\\mbox{Cost/worker} & \\$700 & \\$1000 & \\$1500 \\\\\n",
    "\\end{array}\n",
    "\n",
    "Each week we need to make 600 of product 1, 800 of product 2, and 1000 of product 3.  We can use at most 20 workers.\n",
    "\n",
    "Use the data given in the table above to define four dictionaries called `setup_cost_tab`, `worker_cost_tab`, `production_tab`, and `demand_tab`.  Use `1`, `2`, and `3` and `(1, 1), (1, 2), (1, 3), (2, 1), (2, 2), (2, 3), (3, 1), (3, 2), (3, 3)` as the keys in the dictionaries (where appropriate; for instance `(2, 3)` might correspond to Product 2 made on Line 3). Print the dictionaries to check your work.\n",
    "\n",
    "_What's the point of this exercise?_ We'll need to set up similar dictionaries consisting of problem data when we learn how to formulate and solve these types of problems with Python later this semester. You'll see this in SA305 as well."
   ]
  },
  {
   "cell_type": "code",
   "execution_count": null,
   "metadata": {
    "scrolled": true
   },
   "outputs": [],
   "source": [
    "# Write your code here\n"
   ]
  }
 ],
 "metadata": {
  "kernelspec": {
   "display_name": "Python 3",
   "language": "python",
   "name": "python3"
  },
  "language_info": {
   "codemirror_mode": {
    "name": "ipython",
    "version": 3
   },
   "file_extension": ".py",
   "mimetype": "text/x-python",
   "name": "python",
   "nbconvert_exporter": "python",
   "pygments_lexer": "ipython3",
   "version": "3.6.4"
  }
 },
 "nbformat": 4,
 "nbformat_minor": 2
}
